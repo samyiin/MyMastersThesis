{
 "cells": [
  {
   "cell_type": "markdown",
   "source": [
    "This file is used to check the distribution of words used in each project, and then compare the results in various ways. "
   ],
   "metadata": {
    "collapsed": false
   },
   "id": "2084b70b5b67b5d2"
  },
  {
   "cell_type": "markdown",
   "source": [
    "## Read Files\n",
    "First we will read the result from previous work, in which we get python files from internet, parse them to get all the variable and function names (and their scope, might be useful later), and then we parse the variable and function names into terms (in a primitive way). "
   ],
   "metadata": {
    "collapsed": false
   },
   "id": "d0344e8112e8c68"
  },
  {
   "cell_type": "code",
   "execution_count": null,
   "id": "initial_id",
   "metadata": {
    "collapsed": true
   },
   "outputs": [],
   "source": []
  }
 ],
 "metadata": {
  "kernelspec": {
   "display_name": "Python 3",
   "language": "python",
   "name": "python3"
  },
  "language_info": {
   "codemirror_mode": {
    "name": "ipython",
    "version": 2
   },
   "file_extension": ".py",
   "mimetype": "text/x-python",
   "name": "python",
   "nbconvert_exporter": "python",
   "pygments_lexer": "ipython2",
   "version": "2.7.6"
  }
 },
 "nbformat": 4,
 "nbformat_minor": 5
}
