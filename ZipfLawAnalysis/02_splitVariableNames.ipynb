{
 "cells": [
  {
   "cell_type": "markdown",
   "source": [
    "## Description\n",
    "In this file, I will split variable names into terms. My first approach is to identy the naming convention of the variable name, and then split the name based on the naming convention.  \n",
    "A potential problem is mixed style names, such as \"get_numFish\" and no style names such as \"filenames\". This is known as the \"The Identifier-Splitting Problem\", and we will come back to address this later.  "
   ],
   "metadata": {
    "collapsed": false
   },
   "id": "af54487e6e88d398"
  },
  {
   "cell_type": "markdown",
   "source": [
    "## Read Data\n",
    "First let's read the data from previous works. My previous work takes projects from github, label them as Chinese Author or English Author, and find all python files from these projects.  \n",
    "Then I extract all the function and variable names form the python files, and stored their  to a database, under table name \"NameTable\""
   ],
   "metadata": {
    "collapsed": false
   },
   "id": "cd0f938803db723c"
  },
  {
   "cell_type": "code",
   "execution_count": 1,
   "id": "initial_id",
   "metadata": {
    "collapsed": true,
    "ExecuteTime": {
     "end_time": "2024-04-30T06:48:49.902486Z",
     "start_time": "2024-04-30T06:48:49.401965Z"
    }
   },
   "outputs": [],
   "source": [
    "import pandas as pd\n",
    "import sqlite3"
   ]
  },
  {
   "cell_type": "code",
   "execution_count": 2,
   "outputs": [],
   "source": [
    "name_table = \"NameTable\"\n",
    "# sqlite connect is also relative path relative to the folder running the script.\n",
    "conn = sqlite3.connect('data.db')\n",
    "query = f\"SELECT * FROM {name_table}\"\n",
    "df = pd.read_sql_query(query, conn)"
   ],
   "metadata": {
    "collapsed": false,
    "ExecuteTime": {
     "end_time": "2024-04-30T06:48:52.165709Z",
     "start_time": "2024-04-30T06:48:49.902960Z"
    }
   },
   "id": "7dd2c1b66d765334"
  },
  {
   "cell_type": "code",
   "execution_count": 3,
   "outputs": [
    {
     "data": {
      "text/plain": "   id          name  nameType    nameScope   author project_name  \\\n0   0   sovits_path  variable  GlobalScope  Chinese   GPT-SoVITS   \n1   1      gpt_path  variable  GlobalScope  Chinese   GPT-SoVITS   \n2   2   is_half_str  variable  GlobalScope  Chinese   GPT-SoVITS   \n3   3       is_half  variable  GlobalScope  Chinese   GPT-SoVITS   \n4   4  is_share_str  variable  GlobalScope  Chinese   GPT-SoVITS   \n\n                    terms namingConvention  \n0      [\"sovits\", \"path\"]            Snake  \n1         [\"gpt\", \"path\"]            Snake  \n2   [\"is\", \"half\", \"str\"]            Snake  \n3          [\"is\", \"half\"]            Snake  \n4  [\"is\", \"share\", \"str\"]            Snake  ",
      "text/html": "<div>\n<style scoped>\n    .dataframe tbody tr th:only-of-type {\n        vertical-align: middle;\n    }\n\n    .dataframe tbody tr th {\n        vertical-align: top;\n    }\n\n    .dataframe thead th {\n        text-align: right;\n    }\n</style>\n<table border=\"1\" class=\"dataframe\">\n  <thead>\n    <tr style=\"text-align: right;\">\n      <th></th>\n      <th>id</th>\n      <th>name</th>\n      <th>nameType</th>\n      <th>nameScope</th>\n      <th>author</th>\n      <th>project_name</th>\n      <th>terms</th>\n      <th>namingConvention</th>\n    </tr>\n  </thead>\n  <tbody>\n    <tr>\n      <th>0</th>\n      <td>0</td>\n      <td>sovits_path</td>\n      <td>variable</td>\n      <td>GlobalScope</td>\n      <td>Chinese</td>\n      <td>GPT-SoVITS</td>\n      <td>[\"sovits\", \"path\"]</td>\n      <td>Snake</td>\n    </tr>\n    <tr>\n      <th>1</th>\n      <td>1</td>\n      <td>gpt_path</td>\n      <td>variable</td>\n      <td>GlobalScope</td>\n      <td>Chinese</td>\n      <td>GPT-SoVITS</td>\n      <td>[\"gpt\", \"path\"]</td>\n      <td>Snake</td>\n    </tr>\n    <tr>\n      <th>2</th>\n      <td>2</td>\n      <td>is_half_str</td>\n      <td>variable</td>\n      <td>GlobalScope</td>\n      <td>Chinese</td>\n      <td>GPT-SoVITS</td>\n      <td>[\"is\", \"half\", \"str\"]</td>\n      <td>Snake</td>\n    </tr>\n    <tr>\n      <th>3</th>\n      <td>3</td>\n      <td>is_half</td>\n      <td>variable</td>\n      <td>GlobalScope</td>\n      <td>Chinese</td>\n      <td>GPT-SoVITS</td>\n      <td>[\"is\", \"half\"]</td>\n      <td>Snake</td>\n    </tr>\n    <tr>\n      <th>4</th>\n      <td>4</td>\n      <td>is_share_str</td>\n      <td>variable</td>\n      <td>GlobalScope</td>\n      <td>Chinese</td>\n      <td>GPT-SoVITS</td>\n      <td>[\"is\", \"share\", \"str\"]</td>\n      <td>Snake</td>\n    </tr>\n  </tbody>\n</table>\n</div>"
     },
     "execution_count": 3,
     "metadata": {},
     "output_type": "execute_result"
    }
   ],
   "source": [
    "df.head()"
   ],
   "metadata": {
    "collapsed": false,
    "ExecuteTime": {
     "end_time": "2024-04-30T06:48:52.178257Z",
     "start_time": "2024-04-30T06:48:52.168425Z"
    }
   },
   "id": "91e7afc76e4d6de5"
  },
  {
   "cell_type": "code",
   "execution_count": 4,
   "outputs": [],
   "source": [
    "def split_only_letter_name(name):\n",
    "    # assume that name contains both upper and lower cases\n",
    "    terms = []\n",
    "    if name[0].islower():\n",
    "        # extract the first term\n",
    "        lower_term = re.match(r'^([a-z]+)', name)\n",
    "        terms.append(lower_term.group())\n",
    "    # find name in \"UPPER\" form, that means, unless look ahead, it is followed by a lower case: then that upper case letter belongs to another word\n",
    "    matches = re.findall(r'([A-Z]+)(?![a-z])', name)\n",
    "    terms = terms +  matches\n",
    "    # find name in \"Upper\" form, that is, Upper followed by a lower (until meet another upper)\n",
    "    matches = re.findall( r'[A-Z][a-z]+', name)\n",
    "    terms = terms + matches\n",
    "    \n",
    "    return terms\n"
   ],
   "metadata": {
    "collapsed": false,
    "ExecuteTime": {
     "end_time": "2024-04-30T06:48:52.184222Z",
     "start_time": "2024-04-30T06:48:52.179370Z"
    }
   },
   "id": "294a8a4003f1c714"
  },
  {
   "cell_type": "markdown",
   "source": [
    "hazard: \"VCdimension\". This is not a good name, but what if some one name it this way? His fault....  \n",
    "hazard: \"Sovits\". This is a name\n"
   ],
   "metadata": {
    "collapsed": false
   },
   "id": "a8bb92c6b7534b6a"
  },
  {
   "cell_type": "code",
   "execution_count": 5,
   "outputs": [],
   "source": [
    "import re\n",
    "def split_names(name):\n",
    "    # We can assume input is a valid python name, that means it only contains letters, numbers and underscore. \n",
    "    # split by underscore and number, so the only possibility left is letters\n",
    "    parts = re.split(r'[_\\d]+', name)\n",
    "    terms = []\n",
    "    for term in parts:\n",
    "        if term == '':\n",
    "            continue\n",
    "        # if it's all lower case or all upper case then we ignore it. \n",
    "        if re.fullmatch(r'[a-z]+', term) or re.fullmatch(r'[A-Z]+', term) :\n",
    "            terms.append(term)\n",
    "            continue\n",
    "        split_terms = split_only_letter_name(term)\n",
    "        terms += split_terms\n",
    "    return terms\n",
    "    \n"
   ],
   "metadata": {
    "collapsed": false,
    "ExecuteTime": {
     "end_time": "2024-04-30T06:48:52.190414Z",
     "start_time": "2024-04-30T06:48:52.183845Z"
    }
   },
   "id": "c936deecb5fa7d0f"
  },
  {
   "cell_type": "markdown",
   "source": [
    "Now we will apply the split function to dataframe"
   ],
   "metadata": {
    "collapsed": false
   },
   "id": "4face6026590845d"
  },
  {
   "cell_type": "code",
   "execution_count": 6,
   "outputs": [],
   "source": [
    "df['terms'] = df['name'].apply(split_names)\n"
   ],
   "metadata": {
    "collapsed": false,
    "ExecuteTime": {
     "end_time": "2024-04-30T06:48:55.458142Z",
     "start_time": "2024-04-30T06:48:52.187829Z"
    }
   },
   "id": "ed79d5556f9bd675"
  },
  {
   "cell_type": "code",
   "execution_count": 7,
   "outputs": [
    {
     "data": {
      "text/plain": "            id           name  nameType      nameScope   author project_name  \\\n0            0    sovits_path  variable    GlobalScope  Chinese   GPT-SoVITS   \n1            1       gpt_path  variable    GlobalScope  Chinese   GPT-SoVITS   \n2            2    is_half_str  variable    GlobalScope  Chinese   GPT-SoVITS   \n3            3        is_half  variable    GlobalScope  Chinese   GPT-SoVITS   \n4            4   is_share_str  variable    GlobalScope  Chinese   GPT-SoVITS   \n...        ...            ...       ...            ...      ...          ...   \n839640  839640  next_function  variable  FunctionScope  English       django   \n839641  839641    model_class  variable  FunctionScope  English       django   \n839642  839642     app_config  variable  FunctionScope  English       django   \n839643  839643     app_config  variable  FunctionScope  English       django   \n839644  839644        __all__  variable    GlobalScope  English       django   \n\n                   terms namingConvention  \n0         [sovits, path]            Snake  \n1            [gpt, path]            Snake  \n2        [is, half, str]            Snake  \n3             [is, half]            Snake  \n4       [is, share, str]            Snake  \n...                  ...              ...  \n839640  [next, function]            Snake  \n839641    [model, class]            Snake  \n839642     [app, config]            Snake  \n839643     [app, config]            Snake  \n839644             [all]            Snake  \n\n[839645 rows x 8 columns]",
      "text/html": "<div>\n<style scoped>\n    .dataframe tbody tr th:only-of-type {\n        vertical-align: middle;\n    }\n\n    .dataframe tbody tr th {\n        vertical-align: top;\n    }\n\n    .dataframe thead th {\n        text-align: right;\n    }\n</style>\n<table border=\"1\" class=\"dataframe\">\n  <thead>\n    <tr style=\"text-align: right;\">\n      <th></th>\n      <th>id</th>\n      <th>name</th>\n      <th>nameType</th>\n      <th>nameScope</th>\n      <th>author</th>\n      <th>project_name</th>\n      <th>terms</th>\n      <th>namingConvention</th>\n    </tr>\n  </thead>\n  <tbody>\n    <tr>\n      <th>0</th>\n      <td>0</td>\n      <td>sovits_path</td>\n      <td>variable</td>\n      <td>GlobalScope</td>\n      <td>Chinese</td>\n      <td>GPT-SoVITS</td>\n      <td>[sovits, path]</td>\n      <td>Snake</td>\n    </tr>\n    <tr>\n      <th>1</th>\n      <td>1</td>\n      <td>gpt_path</td>\n      <td>variable</td>\n      <td>GlobalScope</td>\n      <td>Chinese</td>\n      <td>GPT-SoVITS</td>\n      <td>[gpt, path]</td>\n      <td>Snake</td>\n    </tr>\n    <tr>\n      <th>2</th>\n      <td>2</td>\n      <td>is_half_str</td>\n      <td>variable</td>\n      <td>GlobalScope</td>\n      <td>Chinese</td>\n      <td>GPT-SoVITS</td>\n      <td>[is, half, str]</td>\n      <td>Snake</td>\n    </tr>\n    <tr>\n      <th>3</th>\n      <td>3</td>\n      <td>is_half</td>\n      <td>variable</td>\n      <td>GlobalScope</td>\n      <td>Chinese</td>\n      <td>GPT-SoVITS</td>\n      <td>[is, half]</td>\n      <td>Snake</td>\n    </tr>\n    <tr>\n      <th>4</th>\n      <td>4</td>\n      <td>is_share_str</td>\n      <td>variable</td>\n      <td>GlobalScope</td>\n      <td>Chinese</td>\n      <td>GPT-SoVITS</td>\n      <td>[is, share, str]</td>\n      <td>Snake</td>\n    </tr>\n    <tr>\n      <th>...</th>\n      <td>...</td>\n      <td>...</td>\n      <td>...</td>\n      <td>...</td>\n      <td>...</td>\n      <td>...</td>\n      <td>...</td>\n      <td>...</td>\n    </tr>\n    <tr>\n      <th>839640</th>\n      <td>839640</td>\n      <td>next_function</td>\n      <td>variable</td>\n      <td>FunctionScope</td>\n      <td>English</td>\n      <td>django</td>\n      <td>[next, function]</td>\n      <td>Snake</td>\n    </tr>\n    <tr>\n      <th>839641</th>\n      <td>839641</td>\n      <td>model_class</td>\n      <td>variable</td>\n      <td>FunctionScope</td>\n      <td>English</td>\n      <td>django</td>\n      <td>[model, class]</td>\n      <td>Snake</td>\n    </tr>\n    <tr>\n      <th>839642</th>\n      <td>839642</td>\n      <td>app_config</td>\n      <td>variable</td>\n      <td>FunctionScope</td>\n      <td>English</td>\n      <td>django</td>\n      <td>[app, config]</td>\n      <td>Snake</td>\n    </tr>\n    <tr>\n      <th>839643</th>\n      <td>839643</td>\n      <td>app_config</td>\n      <td>variable</td>\n      <td>FunctionScope</td>\n      <td>English</td>\n      <td>django</td>\n      <td>[app, config]</td>\n      <td>Snake</td>\n    </tr>\n    <tr>\n      <th>839644</th>\n      <td>839644</td>\n      <td>__all__</td>\n      <td>variable</td>\n      <td>GlobalScope</td>\n      <td>English</td>\n      <td>django</td>\n      <td>[all]</td>\n      <td>Snake</td>\n    </tr>\n  </tbody>\n</table>\n<p>839645 rows × 8 columns</p>\n</div>"
     },
     "execution_count": 7,
     "metadata": {},
     "output_type": "execute_result"
    }
   ],
   "source": [
    "df"
   ],
   "metadata": {
    "collapsed": false,
    "ExecuteTime": {
     "end_time": "2024-04-30T06:48:55.474727Z",
     "start_time": "2024-04-30T06:48:55.461476Z"
    }
   },
   "id": "61153f227e6cc1b1"
  },
  {
   "cell_type": "markdown",
   "source": [
    "Now we will identify the naming convention of each variable"
   ],
   "metadata": {
    "collapsed": false
   },
   "id": "ff562886482d6a31"
  },
  {
   "cell_type": "code",
   "execution_count": 8,
   "outputs": [],
   "source": [
    "def identify_naming_convention(row):\n",
    "    # let's not consider the case of numbers: there are exactly the following scenarios\n",
    "    # (lower, Upper, UPPER) x underscore\n",
    "    # combination of one: \n",
    "    # lower X  no underscore - Unknown, lower X  underscore - Snake\n",
    "    # Upper X  no underscore - Camel, Upper X  underscore - Mixed\n",
    "    # UPPER - SCREAMING, UPPER X single letter X no underscore - Unknown\n",
    "    # combination of two: \n",
    "    # lower Upper X no underscore - Camel, lower Upper X underscore - Mix\n",
    "    # lower UPPER X no underscore - unconventional, lower UPPER X underscore - unconventional\n",
    "    # Upper UPPER X no underscore - unconventional, Upper UPPER X underscore - unconventional\n",
    "    # combination of three: unconventional\n",
    "    name = row['name']\n",
    "    terms = row['terms']\n",
    "     # if all the terms are lower case or upper single letter, then we don't know\n",
    "    if '_' not in name and all(term.islower() for term in terms):\n",
    "        return 'Unknown'\n",
    "    if '_' not in name and(len(terms) == 1 and re.match(r'^[A-Z]$', terms[0])):\n",
    "        return 'Unknown'\n",
    "    # if the name is UPPER_UPPER, or just UPPER\n",
    "    if all(term.isupper() for term in terms):\n",
    "        return \"Snake-Screaming\"\n",
    "    # lower X  underscore\n",
    "    if '_' in name and all(term.islower() for term in terms):\n",
    "        return \"Snake\"\n",
    "    # lower Upper X no underscore - Camel\n",
    "    if '_' not in name and all(re.match(r'^[a-zA-Z][a-z]*$', term) for term in terms):\n",
    "        # if name is lowerUpper\n",
    "        if name[0].islower():\n",
    "            return \"Camel\"\n",
    "        # if the name is UpperUpper\n",
    "        else:\n",
    "            return \"Pascal\"\n",
    "    # if the name is lower_lowerUpper\n",
    "    if '_' in name and all(re.match(r'^[a-zA-Z][a-z]*$', term) for term in terms):\n",
    "        return \"Mixed\"\n",
    "    # if not all the terms are upper case, not all the terms are lower case, then according to how I split words, it need to be mix of underscore, lower, Upper and UPPER. \n",
    "    # lowerUpper, lower_Upper, all excluded\n",
    "    # what's left are: lowerUPPER, lower_UPPER, Upper_UPPER, \n",
    "    return \"non-convention\"\n",
    "df['namingConvention'] = df.apply(identify_naming_convention, axis=1)\n"
   ],
   "metadata": {
    "collapsed": false,
    "ExecuteTime": {
     "end_time": "2024-04-30T06:49:00.845259Z",
     "start_time": "2024-04-30T06:48:55.467479Z"
    }
   },
   "id": "6fc5e1b134c9b21c"
  },
  {
   "cell_type": "code",
   "execution_count": 9,
   "outputs": [
    {
     "data": {
      "text/plain": "            id           name  nameType      nameScope   author project_name  \\\n0            0    sovits_path  variable    GlobalScope  Chinese   GPT-SoVITS   \n1            1       gpt_path  variable    GlobalScope  Chinese   GPT-SoVITS   \n2            2    is_half_str  variable    GlobalScope  Chinese   GPT-SoVITS   \n3            3        is_half  variable    GlobalScope  Chinese   GPT-SoVITS   \n4            4   is_share_str  variable    GlobalScope  Chinese   GPT-SoVITS   \n...        ...            ...       ...            ...      ...          ...   \n839640  839640  next_function  variable  FunctionScope  English       django   \n839641  839641    model_class  variable  FunctionScope  English       django   \n839642  839642     app_config  variable  FunctionScope  English       django   \n839643  839643     app_config  variable  FunctionScope  English       django   \n839644  839644        __all__  variable    GlobalScope  English       django   \n\n                   terms namingConvention  \n0         [sovits, path]            Snake  \n1            [gpt, path]            Snake  \n2        [is, half, str]            Snake  \n3             [is, half]            Snake  \n4       [is, share, str]            Snake  \n...                  ...              ...  \n839640  [next, function]            Snake  \n839641    [model, class]            Snake  \n839642     [app, config]            Snake  \n839643     [app, config]            Snake  \n839644             [all]            Snake  \n\n[839645 rows x 8 columns]",
      "text/html": "<div>\n<style scoped>\n    .dataframe tbody tr th:only-of-type {\n        vertical-align: middle;\n    }\n\n    .dataframe tbody tr th {\n        vertical-align: top;\n    }\n\n    .dataframe thead th {\n        text-align: right;\n    }\n</style>\n<table border=\"1\" class=\"dataframe\">\n  <thead>\n    <tr style=\"text-align: right;\">\n      <th></th>\n      <th>id</th>\n      <th>name</th>\n      <th>nameType</th>\n      <th>nameScope</th>\n      <th>author</th>\n      <th>project_name</th>\n      <th>terms</th>\n      <th>namingConvention</th>\n    </tr>\n  </thead>\n  <tbody>\n    <tr>\n      <th>0</th>\n      <td>0</td>\n      <td>sovits_path</td>\n      <td>variable</td>\n      <td>GlobalScope</td>\n      <td>Chinese</td>\n      <td>GPT-SoVITS</td>\n      <td>[sovits, path]</td>\n      <td>Snake</td>\n    </tr>\n    <tr>\n      <th>1</th>\n      <td>1</td>\n      <td>gpt_path</td>\n      <td>variable</td>\n      <td>GlobalScope</td>\n      <td>Chinese</td>\n      <td>GPT-SoVITS</td>\n      <td>[gpt, path]</td>\n      <td>Snake</td>\n    </tr>\n    <tr>\n      <th>2</th>\n      <td>2</td>\n      <td>is_half_str</td>\n      <td>variable</td>\n      <td>GlobalScope</td>\n      <td>Chinese</td>\n      <td>GPT-SoVITS</td>\n      <td>[is, half, str]</td>\n      <td>Snake</td>\n    </tr>\n    <tr>\n      <th>3</th>\n      <td>3</td>\n      <td>is_half</td>\n      <td>variable</td>\n      <td>GlobalScope</td>\n      <td>Chinese</td>\n      <td>GPT-SoVITS</td>\n      <td>[is, half]</td>\n      <td>Snake</td>\n    </tr>\n    <tr>\n      <th>4</th>\n      <td>4</td>\n      <td>is_share_str</td>\n      <td>variable</td>\n      <td>GlobalScope</td>\n      <td>Chinese</td>\n      <td>GPT-SoVITS</td>\n      <td>[is, share, str]</td>\n      <td>Snake</td>\n    </tr>\n    <tr>\n      <th>...</th>\n      <td>...</td>\n      <td>...</td>\n      <td>...</td>\n      <td>...</td>\n      <td>...</td>\n      <td>...</td>\n      <td>...</td>\n      <td>...</td>\n    </tr>\n    <tr>\n      <th>839640</th>\n      <td>839640</td>\n      <td>next_function</td>\n      <td>variable</td>\n      <td>FunctionScope</td>\n      <td>English</td>\n      <td>django</td>\n      <td>[next, function]</td>\n      <td>Snake</td>\n    </tr>\n    <tr>\n      <th>839641</th>\n      <td>839641</td>\n      <td>model_class</td>\n      <td>variable</td>\n      <td>FunctionScope</td>\n      <td>English</td>\n      <td>django</td>\n      <td>[model, class]</td>\n      <td>Snake</td>\n    </tr>\n    <tr>\n      <th>839642</th>\n      <td>839642</td>\n      <td>app_config</td>\n      <td>variable</td>\n      <td>FunctionScope</td>\n      <td>English</td>\n      <td>django</td>\n      <td>[app, config]</td>\n      <td>Snake</td>\n    </tr>\n    <tr>\n      <th>839643</th>\n      <td>839643</td>\n      <td>app_config</td>\n      <td>variable</td>\n      <td>FunctionScope</td>\n      <td>English</td>\n      <td>django</td>\n      <td>[app, config]</td>\n      <td>Snake</td>\n    </tr>\n    <tr>\n      <th>839644</th>\n      <td>839644</td>\n      <td>__all__</td>\n      <td>variable</td>\n      <td>GlobalScope</td>\n      <td>English</td>\n      <td>django</td>\n      <td>[all]</td>\n      <td>Snake</td>\n    </tr>\n  </tbody>\n</table>\n<p>839645 rows × 8 columns</p>\n</div>"
     },
     "execution_count": 9,
     "metadata": {},
     "output_type": "execute_result"
    }
   ],
   "source": [
    "df"
   ],
   "metadata": {
    "collapsed": false,
    "ExecuteTime": {
     "end_time": "2024-04-30T06:49:00.859418Z",
     "start_time": "2024-04-30T06:49:00.853457Z"
    }
   },
   "id": "1dac1ce5644d7c6a"
  },
  {
   "cell_type": "markdown",
   "source": [
    "Store result to database, replace the same table"
   ],
   "metadata": {
    "collapsed": false
   },
   "id": "1c0c43c4df3c7d38"
  },
  {
   "cell_type": "code",
   "execution_count": 10,
   "outputs": [
    {
     "data": {
      "text/plain": "            id           name  nameType      nameScope   author project_name  \\\n0            0    sovits_path  variable    GlobalScope  Chinese   GPT-SoVITS   \n1            1       gpt_path  variable    GlobalScope  Chinese   GPT-SoVITS   \n2            2    is_half_str  variable    GlobalScope  Chinese   GPT-SoVITS   \n3            3        is_half  variable    GlobalScope  Chinese   GPT-SoVITS   \n4            4   is_share_str  variable    GlobalScope  Chinese   GPT-SoVITS   \n...        ...            ...       ...            ...      ...          ...   \n839640  839640  next_function  variable  FunctionScope  English       django   \n839641  839641    model_class  variable  FunctionScope  English       django   \n839642  839642     app_config  variable  FunctionScope  English       django   \n839643  839643     app_config  variable  FunctionScope  English       django   \n839644  839644        __all__  variable    GlobalScope  English       django   \n\n                         terms namingConvention  \n0           [\"sovits\", \"path\"]            Snake  \n1              [\"gpt\", \"path\"]            Snake  \n2        [\"is\", \"half\", \"str\"]            Snake  \n3               [\"is\", \"half\"]            Snake  \n4       [\"is\", \"share\", \"str\"]            Snake  \n...                        ...              ...  \n839640    [\"next\", \"function\"]            Snake  \n839641      [\"model\", \"class\"]            Snake  \n839642       [\"app\", \"config\"]            Snake  \n839643       [\"app\", \"config\"]            Snake  \n839644                 [\"all\"]            Snake  \n\n[839645 rows x 8 columns]",
      "text/html": "<div>\n<style scoped>\n    .dataframe tbody tr th:only-of-type {\n        vertical-align: middle;\n    }\n\n    .dataframe tbody tr th {\n        vertical-align: top;\n    }\n\n    .dataframe thead th {\n        text-align: right;\n    }\n</style>\n<table border=\"1\" class=\"dataframe\">\n  <thead>\n    <tr style=\"text-align: right;\">\n      <th></th>\n      <th>id</th>\n      <th>name</th>\n      <th>nameType</th>\n      <th>nameScope</th>\n      <th>author</th>\n      <th>project_name</th>\n      <th>terms</th>\n      <th>namingConvention</th>\n    </tr>\n  </thead>\n  <tbody>\n    <tr>\n      <th>0</th>\n      <td>0</td>\n      <td>sovits_path</td>\n      <td>variable</td>\n      <td>GlobalScope</td>\n      <td>Chinese</td>\n      <td>GPT-SoVITS</td>\n      <td>[\"sovits\", \"path\"]</td>\n      <td>Snake</td>\n    </tr>\n    <tr>\n      <th>1</th>\n      <td>1</td>\n      <td>gpt_path</td>\n      <td>variable</td>\n      <td>GlobalScope</td>\n      <td>Chinese</td>\n      <td>GPT-SoVITS</td>\n      <td>[\"gpt\", \"path\"]</td>\n      <td>Snake</td>\n    </tr>\n    <tr>\n      <th>2</th>\n      <td>2</td>\n      <td>is_half_str</td>\n      <td>variable</td>\n      <td>GlobalScope</td>\n      <td>Chinese</td>\n      <td>GPT-SoVITS</td>\n      <td>[\"is\", \"half\", \"str\"]</td>\n      <td>Snake</td>\n    </tr>\n    <tr>\n      <th>3</th>\n      <td>3</td>\n      <td>is_half</td>\n      <td>variable</td>\n      <td>GlobalScope</td>\n      <td>Chinese</td>\n      <td>GPT-SoVITS</td>\n      <td>[\"is\", \"half\"]</td>\n      <td>Snake</td>\n    </tr>\n    <tr>\n      <th>4</th>\n      <td>4</td>\n      <td>is_share_str</td>\n      <td>variable</td>\n      <td>GlobalScope</td>\n      <td>Chinese</td>\n      <td>GPT-SoVITS</td>\n      <td>[\"is\", \"share\", \"str\"]</td>\n      <td>Snake</td>\n    </tr>\n    <tr>\n      <th>...</th>\n      <td>...</td>\n      <td>...</td>\n      <td>...</td>\n      <td>...</td>\n      <td>...</td>\n      <td>...</td>\n      <td>...</td>\n      <td>...</td>\n    </tr>\n    <tr>\n      <th>839640</th>\n      <td>839640</td>\n      <td>next_function</td>\n      <td>variable</td>\n      <td>FunctionScope</td>\n      <td>English</td>\n      <td>django</td>\n      <td>[\"next\", \"function\"]</td>\n      <td>Snake</td>\n    </tr>\n    <tr>\n      <th>839641</th>\n      <td>839641</td>\n      <td>model_class</td>\n      <td>variable</td>\n      <td>FunctionScope</td>\n      <td>English</td>\n      <td>django</td>\n      <td>[\"model\", \"class\"]</td>\n      <td>Snake</td>\n    </tr>\n    <tr>\n      <th>839642</th>\n      <td>839642</td>\n      <td>app_config</td>\n      <td>variable</td>\n      <td>FunctionScope</td>\n      <td>English</td>\n      <td>django</td>\n      <td>[\"app\", \"config\"]</td>\n      <td>Snake</td>\n    </tr>\n    <tr>\n      <th>839643</th>\n      <td>839643</td>\n      <td>app_config</td>\n      <td>variable</td>\n      <td>FunctionScope</td>\n      <td>English</td>\n      <td>django</td>\n      <td>[\"app\", \"config\"]</td>\n      <td>Snake</td>\n    </tr>\n    <tr>\n      <th>839644</th>\n      <td>839644</td>\n      <td>__all__</td>\n      <td>variable</td>\n      <td>GlobalScope</td>\n      <td>English</td>\n      <td>django</td>\n      <td>[\"all\"]</td>\n      <td>Snake</td>\n    </tr>\n  </tbody>\n</table>\n<p>839645 rows × 8 columns</p>\n</div>"
     },
     "execution_count": 10,
     "metadata": {},
     "output_type": "execute_result"
    }
   ],
   "source": [
    "import json\n",
    "df['terms'] = df['terms'].apply(json.dumps)\n",
    "df"
   ],
   "metadata": {
    "collapsed": false,
    "ExecuteTime": {
     "end_time": "2024-04-30T06:49:02.396162Z",
     "start_time": "2024-04-30T06:49:00.858042Z"
    }
   },
   "id": "889aaf0e1c360686"
  },
  {
   "cell_type": "code",
   "execution_count": 11,
   "outputs": [],
   "source": [
    "df.to_sql(name_table, conn, index=False, if_exists='replace')\n",
    "conn.commit()\n",
    "conn.close()"
   ],
   "metadata": {
    "collapsed": false,
    "ExecuteTime": {
     "end_time": "2024-04-30T06:49:04.396580Z",
     "start_time": "2024-04-30T06:49:02.498566Z"
    }
   },
   "id": "2b41d08c67064da3"
  },
  {
   "cell_type": "markdown",
   "source": [
    "Let's check the result"
   ],
   "metadata": {
    "collapsed": false
   },
   "id": "a106cb58bfd5d548"
  },
  {
   "cell_type": "code",
   "execution_count": 12,
   "outputs": [],
   "source": [
    "conn = sqlite3.connect('data.db')\n",
    "query = f\"SELECT * FROM {name_table}\"\n",
    "df = pd.read_sql_query(query, conn)"
   ],
   "metadata": {
    "collapsed": false,
    "ExecuteTime": {
     "end_time": "2024-04-30T06:49:06.455460Z",
     "start_time": "2024-04-30T06:49:04.398533Z"
    }
   },
   "id": "5f0c2af169d5c47e"
  },
  {
   "cell_type": "code",
   "execution_count": 13,
   "outputs": [
    {
     "data": {
      "text/plain": "            id           name  nameType      nameScope   author project_name  \\\n0            0    sovits_path  variable    GlobalScope  Chinese   GPT-SoVITS   \n1            1       gpt_path  variable    GlobalScope  Chinese   GPT-SoVITS   \n2            2    is_half_str  variable    GlobalScope  Chinese   GPT-SoVITS   \n3            3        is_half  variable    GlobalScope  Chinese   GPT-SoVITS   \n4            4   is_share_str  variable    GlobalScope  Chinese   GPT-SoVITS   \n...        ...            ...       ...            ...      ...          ...   \n839640  839640  next_function  variable  FunctionScope  English       django   \n839641  839641    model_class  variable  FunctionScope  English       django   \n839642  839642     app_config  variable  FunctionScope  English       django   \n839643  839643     app_config  variable  FunctionScope  English       django   \n839644  839644        __all__  variable    GlobalScope  English       django   \n\n                         terms namingConvention  \n0           [\"sovits\", \"path\"]            Snake  \n1              [\"gpt\", \"path\"]            Snake  \n2        [\"is\", \"half\", \"str\"]            Snake  \n3               [\"is\", \"half\"]            Snake  \n4       [\"is\", \"share\", \"str\"]            Snake  \n...                        ...              ...  \n839640    [\"next\", \"function\"]            Snake  \n839641      [\"model\", \"class\"]            Snake  \n839642       [\"app\", \"config\"]            Snake  \n839643       [\"app\", \"config\"]            Snake  \n839644                 [\"all\"]            Snake  \n\n[839645 rows x 8 columns]",
      "text/html": "<div>\n<style scoped>\n    .dataframe tbody tr th:only-of-type {\n        vertical-align: middle;\n    }\n\n    .dataframe tbody tr th {\n        vertical-align: top;\n    }\n\n    .dataframe thead th {\n        text-align: right;\n    }\n</style>\n<table border=\"1\" class=\"dataframe\">\n  <thead>\n    <tr style=\"text-align: right;\">\n      <th></th>\n      <th>id</th>\n      <th>name</th>\n      <th>nameType</th>\n      <th>nameScope</th>\n      <th>author</th>\n      <th>project_name</th>\n      <th>terms</th>\n      <th>namingConvention</th>\n    </tr>\n  </thead>\n  <tbody>\n    <tr>\n      <th>0</th>\n      <td>0</td>\n      <td>sovits_path</td>\n      <td>variable</td>\n      <td>GlobalScope</td>\n      <td>Chinese</td>\n      <td>GPT-SoVITS</td>\n      <td>[\"sovits\", \"path\"]</td>\n      <td>Snake</td>\n    </tr>\n    <tr>\n      <th>1</th>\n      <td>1</td>\n      <td>gpt_path</td>\n      <td>variable</td>\n      <td>GlobalScope</td>\n      <td>Chinese</td>\n      <td>GPT-SoVITS</td>\n      <td>[\"gpt\", \"path\"]</td>\n      <td>Snake</td>\n    </tr>\n    <tr>\n      <th>2</th>\n      <td>2</td>\n      <td>is_half_str</td>\n      <td>variable</td>\n      <td>GlobalScope</td>\n      <td>Chinese</td>\n      <td>GPT-SoVITS</td>\n      <td>[\"is\", \"half\", \"str\"]</td>\n      <td>Snake</td>\n    </tr>\n    <tr>\n      <th>3</th>\n      <td>3</td>\n      <td>is_half</td>\n      <td>variable</td>\n      <td>GlobalScope</td>\n      <td>Chinese</td>\n      <td>GPT-SoVITS</td>\n      <td>[\"is\", \"half\"]</td>\n      <td>Snake</td>\n    </tr>\n    <tr>\n      <th>4</th>\n      <td>4</td>\n      <td>is_share_str</td>\n      <td>variable</td>\n      <td>GlobalScope</td>\n      <td>Chinese</td>\n      <td>GPT-SoVITS</td>\n      <td>[\"is\", \"share\", \"str\"]</td>\n      <td>Snake</td>\n    </tr>\n    <tr>\n      <th>...</th>\n      <td>...</td>\n      <td>...</td>\n      <td>...</td>\n      <td>...</td>\n      <td>...</td>\n      <td>...</td>\n      <td>...</td>\n      <td>...</td>\n    </tr>\n    <tr>\n      <th>839640</th>\n      <td>839640</td>\n      <td>next_function</td>\n      <td>variable</td>\n      <td>FunctionScope</td>\n      <td>English</td>\n      <td>django</td>\n      <td>[\"next\", \"function\"]</td>\n      <td>Snake</td>\n    </tr>\n    <tr>\n      <th>839641</th>\n      <td>839641</td>\n      <td>model_class</td>\n      <td>variable</td>\n      <td>FunctionScope</td>\n      <td>English</td>\n      <td>django</td>\n      <td>[\"model\", \"class\"]</td>\n      <td>Snake</td>\n    </tr>\n    <tr>\n      <th>839642</th>\n      <td>839642</td>\n      <td>app_config</td>\n      <td>variable</td>\n      <td>FunctionScope</td>\n      <td>English</td>\n      <td>django</td>\n      <td>[\"app\", \"config\"]</td>\n      <td>Snake</td>\n    </tr>\n    <tr>\n      <th>839643</th>\n      <td>839643</td>\n      <td>app_config</td>\n      <td>variable</td>\n      <td>FunctionScope</td>\n      <td>English</td>\n      <td>django</td>\n      <td>[\"app\", \"config\"]</td>\n      <td>Snake</td>\n    </tr>\n    <tr>\n      <th>839644</th>\n      <td>839644</td>\n      <td>__all__</td>\n      <td>variable</td>\n      <td>GlobalScope</td>\n      <td>English</td>\n      <td>django</td>\n      <td>[\"all\"]</td>\n      <td>Snake</td>\n    </tr>\n  </tbody>\n</table>\n<p>839645 rows × 8 columns</p>\n</div>"
     },
     "execution_count": 13,
     "metadata": {},
     "output_type": "execute_result"
    }
   ],
   "source": [
    "df"
   ],
   "metadata": {
    "collapsed": false,
    "ExecuteTime": {
     "end_time": "2024-04-30T06:49:06.465698Z",
     "start_time": "2024-04-30T06:49:06.460678Z"
    }
   },
   "id": "e8796cc6efed786f"
  },
  {
   "cell_type": "code",
   "execution_count": 13,
   "outputs": [],
   "source": [],
   "metadata": {
    "collapsed": false,
    "ExecuteTime": {
     "end_time": "2024-04-30T06:49:06.467375Z",
     "start_time": "2024-04-30T06:49:06.464932Z"
    }
   },
   "id": "ca1bb2c8b7063cc9"
  }
 ],
 "metadata": {
  "kernelspec": {
   "display_name": "Python 3",
   "language": "python",
   "name": "python3"
  },
  "language_info": {
   "codemirror_mode": {
    "name": "ipython",
    "version": 2
   },
   "file_extension": ".py",
   "mimetype": "text/x-python",
   "name": "python",
   "nbconvert_exporter": "python",
   "pygments_lexer": "ipython2",
   "version": "2.7.6"
  }
 },
 "nbformat": 4,
 "nbformat_minor": 5
}
