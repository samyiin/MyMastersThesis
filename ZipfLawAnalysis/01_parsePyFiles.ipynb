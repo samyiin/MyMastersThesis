{
 "cells": [
  {
   "cell_type": "markdown",
   "source": [
    "## Description\n",
    "What I did previously, is I downloaded 10 projects the is developed by Chinese-speaking programmers, and 10 projects that is developed by English-speaking programmers, all the chinese projects are stored under the directory:\n",
    "```\n",
    "RetrieveDataProject/DownloadProjects/ChineseProjects\n",
    "```\n",
    "And all the english projects are stored under the directory:\n",
    "```\n",
    "RetrieveDataProject/DownloadProjects/EnglishProjects\n",
    "```\n",
    "In this file, I will read from those python files, and for each python file, I will parse them to get all the variable and function names."
   ],
   "metadata": {
    "collapsed": false
   },
   "id": "c1f68f343aefa063"
  },
  {
   "cell_type": "code",
   "execution_count": 24,
   "outputs": [],
   "source": [
    "import ast\n",
    "import os\n",
    "\n",
    "import pandas as pd\n",
    "import ast_scope\n"
   ],
   "metadata": {
    "collapsed": false,
    "ExecuteTime": {
     "end_time": "2024-04-29T20:54:02.136115Z",
     "start_time": "2024-04-29T20:54:02.118685Z"
    }
   },
   "id": "331091ed565853d"
  },
  {
   "cell_type": "markdown",
   "source": [
    "This following function will open the python file under parameter \"file_path\", and parse the file to get variable names and their scope: FunctionScope or GlobalScope. "
   ],
   "metadata": {
    "collapsed": false
   },
   "id": "b1fc18af8396538c"
  },
  {
   "cell_type": "code",
   "execution_count": 25,
   "outputs": [],
   "source": [
    "index_counter = 0\n",
    "def extract_variables_and_functions_naive(file_path, author_type, project_name):\n",
    "    global index_counter\n",
    "    try:\n",
    "        with open(file_path, 'r') as file:\n",
    "            tree = ast.parse(file.read(), filename=file_path)\n",
    "    except:\n",
    "        # If a syntax error occurs, print the error message\n",
    "        print(f\"Syntax error in file '{file_path}'\")\n",
    "        raise\n",
    "    scope_info = ast_scope.annotate(tree)\n",
    "    names = []\n",
    "    # todo: function parameter, other?\n",
    "    for node in ast.walk(tree):\n",
    "        if isinstance(node, ast.FunctionDef):\n",
    "            nameScope = \"GlobalScope\" if isinstance(scope_info[node], ast_scope.scope.GlobalScope) else \"FunctionScope\"\n",
    "            name = {\"id\": index_counter, \"name\": node.name, \"nameType\": \"function\", \"nameScope\": nameScope,\n",
    "                    \"author\": author_type, \"project_name\": project_name}\n",
    "            names.append(name)\n",
    "            index_counter += 1\n",
    "        elif isinstance(node, ast.Assign):\n",
    "            for target in node.targets:\n",
    "                if isinstance(target, ast.Name):\n",
    "                    nameScope = \"GlobalScope\" if isinstance(scope_info[target],\n",
    "                                                            ast_scope.scope.GlobalScope) else \"FunctionScope\"\n",
    "                    name = {\"id\": index_counter, \"name\": target.id, \"nameType\": \"variable\", \"nameScope\": nameScope,\n",
    "                            \"author\": author_type, \"project_name\": project_name}\n",
    "                    names.append(name)\n",
    "                    index_counter += 1\n",
    "        elif isinstance(node, ast.ClassDef):\n",
    "            nameScope = \"GlobalScope\" if isinstance(scope_info[node], ast_scope.scope.GlobalScope) else \"FunctionScope\"\n",
    "            name = {\"id\": index_counter, \"name\": node.name, \"nameType\": \"class\", \"nameScope\": nameScope,\n",
    "                    \"author\": author_type, \"project_name\": project_name}\n",
    "            names.append(name)\n",
    "            index_counter += 1\n",
    "    # Now write the result to pandas dataframe\n",
    "    names_df = pd.DataFrame.from_records(names)\n",
    "    return names_df\n"
   ],
   "metadata": {
    "collapsed": false,
    "ExecuteTime": {
     "end_time": "2024-04-29T20:54:02.154998Z",
     "start_time": "2024-04-29T20:54:02.120893Z"
    }
   },
   "id": "100e39ffa854602c"
  },
  {
   "cell_type": "markdown",
   "source": [
    "The following function will walk through a project directory, and open any python files, and parse them. "
   ],
   "metadata": {
    "collapsed": false
   },
   "id": "83a63e0e5e619eac"
  },
  {
   "cell_type": "code",
   "execution_count": 26,
   "outputs": [],
   "source": [
    "def parse_all_python_files_in_project(project_path, project_name, author_type, db_conn, db_table):\n",
    "    for foldername, subfolders, filenames in os.walk(project_path):\n",
    "        for filename in filenames:\n",
    "            if fnmatch.fnmatch(filename, '*.py'):\n",
    "                filepath = os.path.join(foldername, filename)\n",
    "                try:\n",
    "                    names_df = extract_variables_and_functions_naive(filepath, author_type=author_type, project_name=project_name)\n",
    "                    names_df.to_sql(db_table, db_conn, if_exists='append', index=False)\n",
    "                except:\n",
    "                    continue\n",
    "                "
   ],
   "metadata": {
    "collapsed": false,
    "ExecuteTime": {
     "end_time": "2024-04-29T20:54:02.155320Z",
     "start_time": "2024-04-29T20:54:02.129452Z"
    }
   },
   "id": "ed07014faee22a0f"
  },
  {
   "cell_type": "markdown",
   "source": [
    "Now we will open a database to save our result. We will place the database under the same directory of this notebook. "
   ],
   "metadata": {
    "collapsed": false
   },
   "id": "87277e3882f28105"
  },
  {
   "cell_type": "code",
   "execution_count": 27,
   "outputs": [],
   "source": [
    "import sqlite3\n",
    "conn = sqlite3.connect('data.db')\n",
    "table = 'NameTable'"
   ],
   "metadata": {
    "collapsed": false,
    "ExecuteTime": {
     "end_time": "2024-04-29T20:54:02.158909Z",
     "start_time": "2024-04-29T20:54:02.133796Z"
    }
   },
   "id": "a43325ae972cbce3"
  },
  {
   "cell_type": "markdown",
   "source": [
    "We won't run this notebook often, but if we run this notebook, we will reset the table. "
   ],
   "metadata": {
    "collapsed": false
   },
   "id": "a84a1042de6fb956"
  },
  {
   "cell_type": "code",
   "execution_count": 29,
   "outputs": [],
   "source": [
    "# Create a cursor object\n",
    "cursor = conn.cursor()\n",
    "# SQL statement to drop the table\n",
    "sql_statement = f\"DROP TABLE IF EXISTS {table}\"\n",
    "cursor.execute(sql_statement)\n",
    "conn.commit()"
   ],
   "metadata": {
    "collapsed": false,
    "ExecuteTime": {
     "end_time": "2024-04-29T20:54:20.243354Z",
     "start_time": "2024-04-29T20:54:20.239806Z"
    }
   },
   "id": "15070d1ceaf0f751"
  },
  {
   "cell_type": "markdown",
   "source": [
    "Then we will parse all the python files written by Chinese-speaking programmers. "
   ],
   "metadata": {
    "collapsed": false
   },
   "id": "2c430eaea0b4f65"
  },
  {
   "cell_type": "code",
   "execution_count": 31,
   "outputs": [
    {
     "name": "stderr",
     "output_type": "stream",
     "text": [
      "../RetrieveDataProject/DownloadProjects/ChineseProjects/GPT-SoVITS/webui.py:109: SyntaxWarning: invalid escape sequence '\\d'\n",
      "  parts = re.split('(\\d+)', s)\n",
      "../RetrieveDataProject/DownloadProjects/ChineseProjects/GPT-SoVITS/GPT_SoVITS/inference_webui.py:520: SyntaxWarning: invalid escape sequence '\\d'\n",
      "  parts = re.split('(\\d+)', s)\n",
      "../RetrieveDataProject/DownloadProjects/ChineseProjects/GPT-SoVITS/GPT_SoVITS/utils.py:258: SyntaxWarning: invalid escape sequence '\\d'\n",
      "  name_key = lambda _f: int(re.compile(\"._(\\d+)\\.pth\").match(_f).group(1))\n",
      "../RetrieveDataProject/DownloadProjects/ChineseProjects/GPT-SoVITS/GPT_SoVITS/text/english.py:233: SyntaxWarning: invalid escape sequence '\\-'\n",
      "  text = re.sub(\"[^ A-Za-z'.,?!\\-]\", \"\", text)\n",
      "../RetrieveDataProject/DownloadProjects/ChineseProjects/talebook/tools/orzbook-spider.py:52: SyntaxWarning: invalid escape sequence '\\)'\n",
      "  passwd = re.findall(u'''提取码:([^\\)]*)''', rsp.text)\n",
      "../RetrieveDataProject/DownloadProjects/ChineseProjects/talebook/tools/tools.py:60: SyntaxWarning: invalid escape sequence '\\d'\n",
      "  day = re.findall('\\d*-\\d*-\\d*', info[u'连载状态'])\n",
      "../RetrieveDataProject/DownloadProjects/ChineseProjects/VoiceCraft/gradio_app.py:98: SyntaxWarning: invalid escape sequence '\\?'\n",
      "  os.system(f\"wget https://huggingface.co/pyp1/VoiceCraft/resolve/main/{voicecraft_name}\\?download\\=true\")\n",
      "../RetrieveDataProject/DownloadProjects/ChineseProjects/VoiceCraft/gradio_app.py:99: SyntaxWarning: invalid escape sequence '\\?'\n",
      "  os.system(f\"mv {voicecraft_name}\\?download\\=true {MODELS_PATH}/{voicecraft_name}\")\n",
      "../RetrieveDataProject/DownloadProjects/ChineseProjects/music-tag-web/component/translators/server.py:2538: SyntaxWarning: invalid escape sequence '\\w'\n",
      "  self.language_url_pattern = '/_next/static/(\\w+([-]?\\w+))/pages/translate.js'\n",
      "../RetrieveDataProject/DownloadProjects/ChineseProjects/music-tag-web/applications/task/management/commands/setup_in_docker.py:82: SyntaxWarning: invalid escape sequence '\\.'\n",
      "  new_filename = re.sub(\"(.*)\\..*\\.(.*)\", r\"\\1.\\2\", file)\n",
      "../RetrieveDataProject/DownloadProjects/ChineseProjects/Rickrack/src/main/python/ricore/args.py:98: SyntaxWarning: invalid escape sequence '\\.'\n",
      "  glang = re.split(\"\\.|_|-\", lang)\n"
     ]
    }
   ],
   "source": [
    "import os\n",
    "import fnmatch\n",
    "import shutil\n",
    "\n",
    "chinese_root_directory = '../RetrieveDataProject/DownloadProjects/ChineseProjects'\n",
    "for project_name in os.listdir(chinese_root_directory):\n",
    "    project_path = os.path.join(chinese_root_directory, project_name)\n",
    "    # walk through project path\n",
    "    parse_all_python_files_in_project(project_path, project_name, author_type='Chinese', db_conn=conn, db_table=table)"
   ],
   "metadata": {
    "collapsed": false,
    "ExecuteTime": {
     "end_time": "2024-04-29T20:54:42.346155Z",
     "start_time": "2024-04-29T20:54:39.030187Z"
    }
   },
   "id": "e9b71ecbd571018c"
  },
  {
   "cell_type": "markdown",
   "source": [
    "And English-speaking Programmers"
   ],
   "metadata": {
    "collapsed": false
   },
   "id": "c597f1050bcaf654"
  },
  {
   "cell_type": "code",
   "execution_count": 32,
   "outputs": [
    {
     "name": "stderr",
     "output_type": "stream",
     "text": [
      "../RetrieveDataProject/DownloadProjects/EnglishProjects/langchain/docs/scripts/copy_templates.py:19: SyntaxWarning: invalid escape sequence '\\!'\n",
      "  content = re.sub(\"\\!\\[.*?\\]\\((.*?)\\)\", \"\", content)\n",
      "../RetrieveDataProject/DownloadProjects/EnglishProjects/langchain/docs/scripts/copy_templates.py:33: SyntaxWarning: invalid escape sequence '\\]'\n",
      "  content = re.sub(\"\\]\\(\\.\\.\\/\", \"](/docs/templates/\", content)\n",
      "../RetrieveDataProject/DownloadProjects/EnglishProjects/langchain/docs/scripts/resolve_local_links.py:14: SyntaxWarning: invalid escape sequence '\\]'\n",
      "  content = re.sub(\"\\]\\(\\.\\/\", f\"]({docs_link}\", content)\n",
      "../RetrieveDataProject/DownloadProjects/EnglishProjects/langchain/libs/experimental/langchain_experimental/plan_and_execute/planners/chat_planner.py:31: SyntaxWarning: invalid escape sequence '\\s'\n",
      "  steps = [Step(value=v) for v in re.split(\"\\n\\s*\\d+\\. \", text)[1:]]\n",
      "../RetrieveDataProject/DownloadProjects/EnglishProjects/langchain/libs/experimental/langchain_experimental/generative_agents/memory.py:147: SyntaxWarning: invalid escape sequence '\\M'\n",
      "  + \"\\Memories: {memory_content}\"\n",
      "../RetrieveDataProject/DownloadProjects/EnglishProjects/langchain/libs/langchain/langchain/agents/json_chat/base.py:22: SyntaxWarning: invalid escape sequence '\\ '\n",
      "  \"\"\"Create an agent that uses JSON to format its logic, build for Chat Models.\n"
     ]
    },
    {
     "name": "stdout",
     "output_type": "stream",
     "text": [
      "Syntax error in file '../RetrieveDataProject/DownloadProjects/EnglishProjects/langchain/libs/langchain/tests/integration_tests/examples/non-utf8-encoding.py'\n",
      "Syntax error in file '../RetrieveDataProject/DownloadProjects/EnglishProjects/langchain/libs/community/tests/integration_tests/examples/non-utf8-encoding.py'\n",
      "Syntax error in file '../RetrieveDataProject/DownloadProjects/EnglishProjects/langchain/libs/community/tests/examples/non-utf8-encoding.py'\n"
     ]
    },
    {
     "name": "stderr",
     "output_type": "stream",
     "text": [
      "../RetrieveDataProject/DownloadProjects/EnglishProjects/langchain/libs/community/langchain_community/agent_toolkits/openapi/planner.py:321: SyntaxWarning: invalid escape sequence '\\{'\n",
      "  regex_name = re.compile(re.sub(\"\\{.*?\\}\", \".*\", name))\n",
      "../RetrieveDataProject/DownloadProjects/EnglishProjects/langchain/templates/rag-semi-structured/rag_semi_structured/chain.py:47: SyntaxWarning: invalid escape sequence '\\ '\n",
      "  prompt_text = \"\"\"You are an assistant tasked with summarizing tables and text. \\\n",
      "../RetrieveDataProject/DownloadProjects/EnglishProjects/langchain/templates/anthropic-iterative-search/anthropic_iterative_search/output_parser.py:9: SyntaxWarning: invalid escape sequence '\\s'\n",
      "  ext_list = re.findall(f\"<{tag}\\s?>(.+?)</{tag}\\s?>\", string, re.DOTALL)\n",
      "../RetrieveDataProject/DownloadProjects/EnglishProjects/langchain/templates/anthropic-iterative-search/anthropic_iterative_search/output_parser.py:9: SyntaxWarning: invalid escape sequence '\\s'\n",
      "  ext_list = re.findall(f\"<{tag}\\s?>(.+?)</{tag}\\s?>\", string, re.DOTALL)\n",
      "../RetrieveDataProject/DownloadProjects/EnglishProjects/sqlglot/tests/test_expressions.py:1107: SyntaxWarning: invalid escape sequence '\\.'\n",
      "  AssertionError, \"x is not <class 'sqlglot.expressions.Identifier'>\\.\"\n",
      "../RetrieveDataProject/DownloadProjects/EnglishProjects/models/research/lfads/distributions.py:422: SyntaxWarning: invalid escape sequence '\\i'\n",
      "  \"\"\"Create a lower bound in three parts, normalized reconstruction\n",
      "../RetrieveDataProject/DownloadProjects/EnglishProjects/models/research/lfads/utils.py:27: SyntaxWarning: invalid escape sequence '\\s'\n",
      "  \"\"\"Computes log \\sum exp in a numerically stable way.\n",
      "../RetrieveDataProject/DownloadProjects/EnglishProjects/models/research/lfads/utils.py:48: SyntaxWarning: invalid escape sequence '\\s'\n",
      "  \"\"\"Linear (affine) transformation, y = x W + b, for a variety of\n",
      "../RetrieveDataProject/DownloadProjects/EnglishProjects/models/research/lfads/utils.py:88: SyntaxWarning: invalid escape sequence '\\s'\n",
      "  \"\"\"Linear (affine) transformation, y = x W + b, for a variety of\n"
     ]
    },
    {
     "name": "stdout",
     "output_type": "stream",
     "text": [
      "Syntax error in file '../RetrieveDataProject/DownloadProjects/EnglishProjects/models/research/cognitive_planning/train_supervised_active_vision.py'\n",
      "Syntax error in file '../RetrieveDataProject/DownloadProjects/EnglishProjects/models/research/cognitive_planning/viz_active_vision_dataset_main.py'\n",
      "Syntax error in file '../RetrieveDataProject/DownloadProjects/EnglishProjects/models/research/cognitive_planning/envs/active_vision_dataset_env.py'\n"
     ]
    },
    {
     "name": "stderr",
     "output_type": "stream",
     "text": [
      "../RetrieveDataProject/DownloadProjects/EnglishProjects/tacticalrmm/api/tacticalrmm/tacticalrmm/demo_data.py:299: SyntaxWarning: invalid escape sequence '\\W'\n",
      "  spooler_stdout = \"\"\"\n",
      "../RetrieveDataProject/DownloadProjects/EnglishProjects/pytorch/test/dynamo/test_misc.py:9613: SyntaxWarning: invalid escape sequence '\\.'\n",
      "  \"^This compiled backward function is being run with torch\\.use_deterministic_algorithms\",\n",
      "../RetrieveDataProject/DownloadProjects/EnglishProjects/pytorch/test/export/test_export.py:2554: SyntaxWarning: invalid escape sequence '\\['\n",
      "  RuntimeError, \"shape\\[0\\] to be equal to 5, but got 7\"\n",
      "../RetrieveDataProject/DownloadProjects/EnglishProjects/pytorch/test/export/test_export.py:2975: SyntaxWarning: invalid escape sequence '\\['\n",
      "  RuntimeError, \"shape\\[0\\] to be equal to 4, but got 7\"\n",
      "../RetrieveDataProject/DownloadProjects/EnglishProjects/pytorch/test/export/test_export.py:3056: SyntaxWarning: invalid escape sequence '\\['\n",
      "  with self.assertRaisesRegex(RuntimeError, \"shape\\[0\\] to be >= 3, but got 2\"):\n",
      "../RetrieveDataProject/DownloadProjects/EnglishProjects/pytorch/test/functorch/xfail_suggester.py:15: SyntaxWarning: invalid escape sequence '\\w'\n",
      "  p = re.compile('FAILED test/test_\\w+.py::\\w+::(\\S+)')  # noqa: W605\n"
     ]
    },
    {
     "name": "stdout",
     "output_type": "stream",
     "text": [
      "Syntax error in file '../RetrieveDataProject/DownloadProjects/EnglishProjects/django/tests/test_runner_apps/tagged/tests_syntax_error.py'\n"
     ]
    }
   ],
   "source": [
    "chinese_root_directory = '../RetrieveDataProject/DownloadProjects/EnglishProjects'\n",
    "for project_name in os.listdir(chinese_root_directory):\n",
    "    project_path = os.path.join(chinese_root_directory, project_name)\n",
    "    # walk through project path\n",
    "    parse_all_python_files_in_project(project_path, project_name, author_type='English', db_conn=conn, db_table=table)"
   ],
   "metadata": {
    "collapsed": false,
    "ExecuteTime": {
     "end_time": "2024-04-29T20:56:18.670203Z",
     "start_time": "2024-04-29T20:54:42.346766Z"
    }
   },
   "id": "8579ca2177e3eb8d"
  },
  {
   "cell_type": "markdown",
   "source": [
    "Let's see how does our data looks"
   ],
   "metadata": {
    "collapsed": false
   },
   "id": "714dad813e28c0d4"
  },
  {
   "cell_type": "code",
   "execution_count": 33,
   "outputs": [
    {
     "data": {
      "text/plain": "            id           name  nameType      nameScope   author project_name\n0            0    sovits_path  variable    GlobalScope  Chinese   GPT-SoVITS\n1            1       gpt_path  variable    GlobalScope  Chinese   GPT-SoVITS\n2            2    is_half_str  variable    GlobalScope  Chinese   GPT-SoVITS\n3            3        is_half  variable    GlobalScope  Chinese   GPT-SoVITS\n4            4   is_share_str  variable    GlobalScope  Chinese   GPT-SoVITS\n...        ...            ...       ...            ...      ...          ...\n839640  839640  next_function  variable  FunctionScope  English       django\n839641  839641    model_class  variable  FunctionScope  English       django\n839642  839642     app_config  variable  FunctionScope  English       django\n839643  839643     app_config  variable  FunctionScope  English       django\n839644  839644        __all__  variable    GlobalScope  English       django\n\n[839645 rows x 6 columns]",
      "text/html": "<div>\n<style scoped>\n    .dataframe tbody tr th:only-of-type {\n        vertical-align: middle;\n    }\n\n    .dataframe tbody tr th {\n        vertical-align: top;\n    }\n\n    .dataframe thead th {\n        text-align: right;\n    }\n</style>\n<table border=\"1\" class=\"dataframe\">\n  <thead>\n    <tr style=\"text-align: right;\">\n      <th></th>\n      <th>id</th>\n      <th>name</th>\n      <th>nameType</th>\n      <th>nameScope</th>\n      <th>author</th>\n      <th>project_name</th>\n    </tr>\n  </thead>\n  <tbody>\n    <tr>\n      <th>0</th>\n      <td>0</td>\n      <td>sovits_path</td>\n      <td>variable</td>\n      <td>GlobalScope</td>\n      <td>Chinese</td>\n      <td>GPT-SoVITS</td>\n    </tr>\n    <tr>\n      <th>1</th>\n      <td>1</td>\n      <td>gpt_path</td>\n      <td>variable</td>\n      <td>GlobalScope</td>\n      <td>Chinese</td>\n      <td>GPT-SoVITS</td>\n    </tr>\n    <tr>\n      <th>2</th>\n      <td>2</td>\n      <td>is_half_str</td>\n      <td>variable</td>\n      <td>GlobalScope</td>\n      <td>Chinese</td>\n      <td>GPT-SoVITS</td>\n    </tr>\n    <tr>\n      <th>3</th>\n      <td>3</td>\n      <td>is_half</td>\n      <td>variable</td>\n      <td>GlobalScope</td>\n      <td>Chinese</td>\n      <td>GPT-SoVITS</td>\n    </tr>\n    <tr>\n      <th>4</th>\n      <td>4</td>\n      <td>is_share_str</td>\n      <td>variable</td>\n      <td>GlobalScope</td>\n      <td>Chinese</td>\n      <td>GPT-SoVITS</td>\n    </tr>\n    <tr>\n      <th>...</th>\n      <td>...</td>\n      <td>...</td>\n      <td>...</td>\n      <td>...</td>\n      <td>...</td>\n      <td>...</td>\n    </tr>\n    <tr>\n      <th>839640</th>\n      <td>839640</td>\n      <td>next_function</td>\n      <td>variable</td>\n      <td>FunctionScope</td>\n      <td>English</td>\n      <td>django</td>\n    </tr>\n    <tr>\n      <th>839641</th>\n      <td>839641</td>\n      <td>model_class</td>\n      <td>variable</td>\n      <td>FunctionScope</td>\n      <td>English</td>\n      <td>django</td>\n    </tr>\n    <tr>\n      <th>839642</th>\n      <td>839642</td>\n      <td>app_config</td>\n      <td>variable</td>\n      <td>FunctionScope</td>\n      <td>English</td>\n      <td>django</td>\n    </tr>\n    <tr>\n      <th>839643</th>\n      <td>839643</td>\n      <td>app_config</td>\n      <td>variable</td>\n      <td>FunctionScope</td>\n      <td>English</td>\n      <td>django</td>\n    </tr>\n    <tr>\n      <th>839644</th>\n      <td>839644</td>\n      <td>__all__</td>\n      <td>variable</td>\n      <td>GlobalScope</td>\n      <td>English</td>\n      <td>django</td>\n    </tr>\n  </tbody>\n</table>\n<p>839645 rows × 6 columns</p>\n</div>"
     },
     "execution_count": 33,
     "metadata": {},
     "output_type": "execute_result"
    }
   ],
   "source": [
    "conn = sqlite3.connect('data.db')\n",
    "query = f\"SELECT * FROM {table}\"\n",
    "df = pd.read_sql_query(query, conn)\n",
    "df"
   ],
   "metadata": {
    "collapsed": false,
    "ExecuteTime": {
     "end_time": "2024-04-29T20:56:19.849839Z",
     "start_time": "2024-04-29T20:56:18.671144Z"
    }
   },
   "id": "c273ec72ec1e06f3"
  },
  {
   "cell_type": "code",
   "execution_count": 34,
   "outputs": [],
   "source": [
    "conn.close()"
   ],
   "metadata": {
    "collapsed": false,
    "ExecuteTime": {
     "end_time": "2024-04-29T20:56:19.851550Z",
     "start_time": "2024-04-29T20:56:19.848733Z"
    }
   },
   "id": "72b2cc34f7e1007d"
  },
  {
   "cell_type": "code",
   "execution_count": 34,
   "outputs": [],
   "source": [],
   "metadata": {
    "collapsed": false,
    "ExecuteTime": {
     "end_time": "2024-04-29T20:56:19.855116Z",
     "start_time": "2024-04-29T20:56:19.851616Z"
    }
   },
   "id": "9767b63fb3bfa2de"
  }
 ],
 "metadata": {
  "kernelspec": {
   "display_name": "Python 3",
   "language": "python",
   "name": "python3"
  },
  "language_info": {
   "codemirror_mode": {
    "name": "ipython",
    "version": 2
   },
   "file_extension": ".py",
   "mimetype": "text/x-python",
   "name": "python",
   "nbconvert_exporter": "python",
   "pygments_lexer": "ipython2",
   "version": "2.7.6"
  }
 },
 "nbformat": 4,
 "nbformat_minor": 5
}
