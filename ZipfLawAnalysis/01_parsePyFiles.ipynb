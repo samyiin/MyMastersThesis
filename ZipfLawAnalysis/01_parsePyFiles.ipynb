{
 "cells": [
  {
   "cell_type": "markdown",
   "source": [
    "## Description\n",
    "What I did previously, is I downloaded 10 projects the is developed by Chinese-speaking programmers, and 10 projects that is developed by English-speaking programmers, all the chinese projects are stored under the directory:\n",
    "```\n",
    "RetrieveDataProject/DownloadProjects/ChineseProjects\n",
    "```\n",
    "And all the english projects are stored under the directory:\n",
    "```\n",
    "RetrieveDataProject/DownloadProjects/EnglishProjects\n",
    "```\n",
    "2024.05.18 Update\n",
    "Now the format is changed: we have a list of 800 projects from chinese programmer and english programmers (each around 800). So it's no longer practical to download them all and then process. So what we will do is, we will download 10 project at a time, and process the ten, and then clear the directory and download more. \n",
    "\n",
    "In this file, I will read from those python files, and for each python file, I will parse them to get all the variable and function names."
   ],
   "metadata": {
    "collapsed": false
   },
   "id": "c1f68f343aefa063"
  },
  {
   "cell_type": "markdown",
   "source": [],
   "metadata": {
    "collapsed": false
   },
   "id": "b1fc18af8396538c"
  },
  {
   "cell_type": "markdown",
   "source": [],
   "metadata": {
    "collapsed": false
   },
   "id": "83a63e0e5e619eac"
  },
  {
   "cell_type": "markdown",
   "source": [
    "Now we will open a database to save our result. We will place the database under the same directory of this notebook. "
   ],
   "metadata": {
    "collapsed": false
   },
   "id": "87277e3882f28105"
  },
  {
   "cell_type": "markdown",
   "source": [
    "We won't run this notebook often, but if we run this notebook, we will reset the table. "
   ],
   "metadata": {
    "collapsed": false
   },
   "id": "a84a1042de6fb956"
  },
  {
   "cell_type": "markdown",
   "source": [
    "And English-speaking Programmers"
   ],
   "metadata": {
    "collapsed": false
   },
   "id": "c597f1050bcaf654"
  },
  {
   "cell_type": "markdown",
   "source": [
    "Let's see how does our data looks"
   ],
   "metadata": {
    "collapsed": false
   },
   "id": "714dad813e28c0d4"
  },
  {
   "cell_type": "code",
   "execution_count": 11,
   "outputs": [
    {
     "data": {
      "text/plain": "              id          name  nameType      nameScope  projectSize  \\\n0              0    _raise_err  function    GlobalScope        72400   \n1              1    _load_yaml  function    GlobalScope        72400   \n2              2          Node     class    GlobalScope        72400   \n3              3      Relation     class    GlobalScope        72400   \n4              4        Family     class    GlobalScope        72400   \n...          ...           ...       ...            ...          ...   \n8234210  8234210      __long__  variable  FunctionScope        10460   \n8234211  8234211  __getslice__  variable  FunctionScope        10460   \n8234212  8234212  __setslice__  variable  FunctionScope        10460   \n8234213  8234213  __delslice__  variable  FunctionScope        10460   \n8234214  8234214       factory  variable  FunctionScope        10460   \n\n           authorName authorProficiency authorLocation  \n0        programthink               <50          China  \n1        programthink               <50          China  \n2        programthink               <50          China  \n3        programthink               <50          China  \n4        programthink               <50          China  \n...               ...               ...            ...  \n8234210        juvers              >100            USA  \n8234211        juvers              >100            USA  \n8234212        juvers              >100            USA  \n8234213        juvers              >100            USA  \n8234214        juvers              >100            USA  \n\n[8234215 rows x 8 columns]",
      "text/html": "<div>\n<style scoped>\n    .dataframe tbody tr th:only-of-type {\n        vertical-align: middle;\n    }\n\n    .dataframe tbody tr th {\n        vertical-align: top;\n    }\n\n    .dataframe thead th {\n        text-align: right;\n    }\n</style>\n<table border=\"1\" class=\"dataframe\">\n  <thead>\n    <tr style=\"text-align: right;\">\n      <th></th>\n      <th>id</th>\n      <th>name</th>\n      <th>nameType</th>\n      <th>nameScope</th>\n      <th>projectSize</th>\n      <th>authorName</th>\n      <th>authorProficiency</th>\n      <th>authorLocation</th>\n    </tr>\n  </thead>\n  <tbody>\n    <tr>\n      <th>0</th>\n      <td>0</td>\n      <td>_raise_err</td>\n      <td>function</td>\n      <td>GlobalScope</td>\n      <td>72400</td>\n      <td>programthink</td>\n      <td>&lt;50</td>\n      <td>China</td>\n    </tr>\n    <tr>\n      <th>1</th>\n      <td>1</td>\n      <td>_load_yaml</td>\n      <td>function</td>\n      <td>GlobalScope</td>\n      <td>72400</td>\n      <td>programthink</td>\n      <td>&lt;50</td>\n      <td>China</td>\n    </tr>\n    <tr>\n      <th>2</th>\n      <td>2</td>\n      <td>Node</td>\n      <td>class</td>\n      <td>GlobalScope</td>\n      <td>72400</td>\n      <td>programthink</td>\n      <td>&lt;50</td>\n      <td>China</td>\n    </tr>\n    <tr>\n      <th>3</th>\n      <td>3</td>\n      <td>Relation</td>\n      <td>class</td>\n      <td>GlobalScope</td>\n      <td>72400</td>\n      <td>programthink</td>\n      <td>&lt;50</td>\n      <td>China</td>\n    </tr>\n    <tr>\n      <th>4</th>\n      <td>4</td>\n      <td>Family</td>\n      <td>class</td>\n      <td>GlobalScope</td>\n      <td>72400</td>\n      <td>programthink</td>\n      <td>&lt;50</td>\n      <td>China</td>\n    </tr>\n    <tr>\n      <th>...</th>\n      <td>...</td>\n      <td>...</td>\n      <td>...</td>\n      <td>...</td>\n      <td>...</td>\n      <td>...</td>\n      <td>...</td>\n      <td>...</td>\n    </tr>\n    <tr>\n      <th>8234210</th>\n      <td>8234210</td>\n      <td>__long__</td>\n      <td>variable</td>\n      <td>FunctionScope</td>\n      <td>10460</td>\n      <td>juvers</td>\n      <td>&gt;100</td>\n      <td>USA</td>\n    </tr>\n    <tr>\n      <th>8234211</th>\n      <td>8234211</td>\n      <td>__getslice__</td>\n      <td>variable</td>\n      <td>FunctionScope</td>\n      <td>10460</td>\n      <td>juvers</td>\n      <td>&gt;100</td>\n      <td>USA</td>\n    </tr>\n    <tr>\n      <th>8234212</th>\n      <td>8234212</td>\n      <td>__setslice__</td>\n      <td>variable</td>\n      <td>FunctionScope</td>\n      <td>10460</td>\n      <td>juvers</td>\n      <td>&gt;100</td>\n      <td>USA</td>\n    </tr>\n    <tr>\n      <th>8234213</th>\n      <td>8234213</td>\n      <td>__delslice__</td>\n      <td>variable</td>\n      <td>FunctionScope</td>\n      <td>10460</td>\n      <td>juvers</td>\n      <td>&gt;100</td>\n      <td>USA</td>\n    </tr>\n    <tr>\n      <th>8234214</th>\n      <td>8234214</td>\n      <td>factory</td>\n      <td>variable</td>\n      <td>FunctionScope</td>\n      <td>10460</td>\n      <td>juvers</td>\n      <td>&gt;100</td>\n      <td>USA</td>\n    </tr>\n  </tbody>\n</table>\n<p>8234215 rows × 8 columns</p>\n</div>"
     },
     "execution_count": 11,
     "metadata": {},
     "output_type": "execute_result"
    }
   ],
   "source": [
    "import sqlite3\n",
    "import pandas as pd\n",
    "\n",
    "conn = sqlite3.connect('data.db')\n",
    "table = 'NameTable'\n",
    "\n",
    "query = f\"SELECT * FROM {table}\"\n",
    "df = pd.read_sql_query(query, conn)\n",
    "df"
   ],
   "metadata": {
    "collapsed": false,
    "ExecuteTime": {
     "end_time": "2024-05-19T06:35:02.926934Z",
     "start_time": "2024-05-19T06:34:25.207560Z"
    }
   },
   "id": "c273ec72ec1e06f3"
  },
  {
   "cell_type": "code",
   "execution_count": 34,
   "outputs": [],
   "source": [
    "conn.close()"
   ],
   "metadata": {
    "collapsed": false,
    "ExecuteTime": {
     "end_time": "2024-04-29T20:56:19.851550Z",
     "start_time": "2024-04-29T20:56:19.848733Z"
    }
   },
   "id": "72b2cc34f7e1007d"
  },
  {
   "cell_type": "code",
   "execution_count": 34,
   "outputs": [],
   "source": [],
   "metadata": {
    "collapsed": false,
    "ExecuteTime": {
     "end_time": "2024-04-29T20:56:19.855116Z",
     "start_time": "2024-04-29T20:56:19.851616Z"
    }
   },
   "id": "9767b63fb3bfa2de"
  }
 ],
 "metadata": {
  "kernelspec": {
   "display_name": "Python 3",
   "language": "python",
   "name": "python3"
  },
  "language_info": {
   "codemirror_mode": {
    "name": "ipython",
    "version": 2
   },
   "file_extension": ".py",
   "mimetype": "text/x-python",
   "name": "python",
   "nbconvert_exporter": "python",
   "pygments_lexer": "ipython2",
   "version": "2.7.6"
  }
 },
 "nbformat": 4,
 "nbformat_minor": 5
}
